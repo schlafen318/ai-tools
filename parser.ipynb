{
 "cells": [
  {
   "cell_type": "code",
   "execution_count": 9,
   "metadata": {},
   "outputs": [],
   "source": [
    "import pandas as pd\n",
    "\n",
    "df = pd.read_csv('data/mo.csv', index_col=0, date_format='%d/%m/%Y')\n",
    "df.index = pd.to_datetime(df.index)\n",
    "\n",
    "df['close'].resample('W').last().to_csv('data/mo_weekly.csv')"
   ]
  },
  {
   "cell_type": "code",
   "execution_count": 16,
   "metadata": {},
   "outputs": [
    {
     "name": "stdout",
     "output_type": "stream",
     "text": [
      "25. State Street\n",
      "\n",
      "Sponsored Content\n",
      "\n",
      "\n",
      "\n",
      "\n",
      "24. Rockwell Automation\n",
      "\n",
      "Sponsored Content\n",
      "\n",
      "\n",
      "\n",
      "\n",
      "23. Boeing\n",
      "\n",
      "Sponsored Content\n",
      "\n",
      "\n",
      "\n",
      "\n",
      "22. Equifax\n",
      "\n",
      "Sponsored Content\n",
      "\n",
      "\n",
      "\n",
      "\n",
      "21. W.W. Grainger\n",
      "\n",
      "Sponsored Content\n",
      "\n",
      "\n",
      "\n",
      "\n",
      "20. Tyson Foods\n",
      "\n",
      "Sponsored Content\n",
      "\n",
      "\n",
      "\n",
      "\n",
      "19. HollyFrontier\n",
      "\n",
      "Sponsored Content\n",
      "\n",
      "\n",
      "\n",
      "\n",
      "18. Illinois Tool Works\n",
      "\n",
      "Sponsored Content\n",
      "\n",
      "\n",
      "\n",
      "\n",
      "17. U.S. Bancorp\n",
      "\n",
      "Sponsored Content\n",
      "\n",
      "\n",
      "\n",
      "\n",
      "16. Sherwin-Williams\n",
      "\n",
      "Sponsored Content\n",
      "\n",
      "\n",
      "\n",
      "\n",
      "15. TJX Companies\n",
      "\n",
      "Sponsored Content\n",
      "\n",
      "\n",
      "\n",
      "\n",
      "14. Medtronic\n",
      "\n",
      "Sponsored Content\n",
      "\n",
      "\n",
      "\n",
      "\n",
      "13. Walgreens Boots Alliance\n",
      "\n",
      "Sponsored Content\n",
      "\n",
      "\n",
      "\n",
      "\n",
      "12. Brown-Forman\n",
      "\n",
      "Sponsored Content\n",
      "\n",
      "\n",
      "\n",
      "\n",
      "11. Abbott Laboratories\n",
      "\n",
      "Sponsored Content\n",
      "\n",
      "\n",
      "\n",
      "\n",
      "10. Automatic Data Processing\n",
      "\n",
      "Sponsored Content\n",
      "\n",
      "\n",
      "\n",
      "\n",
      "9. Hormel\n",
      "\n",
      "Sponsored Content\n",
      "\n",
      "\n",
      "\n",
      "\n",
      "8. VF Corp.\n",
      "\n",
      "Sponsored Content\n",
      "\n",
      "\n",
      "\n",
      "\n",
      "7. Lowe's\n",
      "\n",
      "Sponsored Content\n",
      "\n",
      "\n",
      "\n",
      "\n",
      "6. McDonald’s\n",
      "\n",
      "Sponsored Content\n",
      "\n",
      "\n",
      "\n",
      "\n",
      "5. Aflac\n",
      "\n",
      "Sponsored Content\n",
      "\n",
      "\n",
      "\n",
      "\n",
      "4. Dollar General\n",
      "\n",
      "Sponsored Content\n",
      "\n",
      "\n",
      "\n",
      "\n",
      "3. Kansas City Southern\n",
      "\n",
      "Sponsored Content\n",
      "\n",
      "\n",
      "\n",
      "\n",
      "2. Altria\n",
      "\n",
      "Sponsored Content\n",
      "\n",
      "\n",
      "\n",
      "\n",
      "1. Berkshire Hathaway\n",
      "\n",
      "Sponsored Content\n",
      "\n",
      "\n",
      "\n",
      "\n",
      "['25. State Street', '24. Rockwell Automation', '23. Boeing', '22. Equifax', '21. W.W. Grainger', '20. Tyson Foods', '19. HollyFrontier', '18. Illinois Tool Works', '17. U.S. Bancorp', '16. Sherwin-Williams', '15. TJX Companies', '14. Medtronic', '13. Walgreens Boots Alliance', '12. Brown-Forman', '11. Abbott Laboratories', '10. Automatic Data Processing', '9. Hormel', '8. VF Corp.', \"7. Lowe's\", '6. McDonald’s', '5. Aflac', '4. Dollar General', '3. Kansas City Southern', '2. Altria', '1. Berkshire Hathaway']\n"
     ]
    }
   ],
   "source": [
    "import requests\n",
    "from bs4 import BeautifulSoup\n",
    "\n",
    "# Make a request to the website\n",
    "url = \"https://www.kiplinger.com/slideshow/investing/t052-s001-the-25-best-s-p-500-stocks-of-the-past-50-years/index.html\"\n",
    "response = requests.get(url)\n",
    "\n",
    "# Parse the whole HTML page using BeautifulSoup\n",
    "soup = BeautifulSoup(response.text, 'html.parser')\n",
    "\n",
    "# Find all h3 tags\n",
    "h3_tags = soup.find_all('h3')\n",
    "\n",
    "# Print the text inside each h3 tag\n",
    "# for tag in h3_tags:\n",
    "#     print(tag.text)\n",
    "\n",
    "# save the h3 tags to a list\n",
    "h3_tags = [tag.text for tag in h3_tags]\n",
    "\n",
    "# remove 'sponsored content' from the list\n",
    "h3_tags = [tag for tag in h3_tags if 'Sponsored Content' not in tag]\n"
   ]
  },
  {
   "cell_type": "code",
   "execution_count": 17,
   "metadata": {},
   "outputs": [
    {
     "name": "stdout",
     "output_type": "stream",
     "text": [
      "['25. State Street', '24. Rockwell Automation', '23. Boeing', '22. Equifax', '21. W.W. Grainger', '20. Tyson Foods', '19. HollyFrontier', '18. Illinois Tool Works', '17. U.S. Bancorp', '16. Sherwin-Williams', '15. TJX Companies', '14. Medtronic', '13. Walgreens Boots Alliance', '12. Brown-Forman', '11. Abbott Laboratories', '10. Automatic Data Processing', '9. Hormel', '8. VF Corp.', \"7. Lowe's\", '6. McDonald’s', '5. Aflac', '4. Dollar General', '3. Kansas City Southern', '2. Altria', '1. Berkshire Hathaway']\n"
     ]
    }
   ],
   "source": [
    "\n",
    "print(h3_tags)\n"
   ]
  },
  {
   "cell_type": "code",
   "execution_count": 19,
   "metadata": {},
   "outputs": [
    {
     "name": "stdout",
     "output_type": "stream",
     "text": [
      "[*********************100%***********************]  1 of 1 completed\n",
      "[*********************100%***********************]  1 of 1 completed\n",
      "[*********************100%***********************]  1 of 1 completed\n",
      "[*********************100%***********************]  1 of 1 completed\n",
      "[*********************100%***********************]  1 of 1 completed\n",
      "[*********************100%***********************]  1 of 1 completed\n",
      "[*********************100%***********************]  1 of 1 completed"
     ]
    },
    {
     "name": "stderr",
     "output_type": "stream",
     "text": [
      "\n",
      "1 Failed download:\n",
      "['HFC']: Exception('%ticker%: No timezone found, symbol may be delisted')\n"
     ]
    },
    {
     "name": "stdout",
     "output_type": "stream",
     "text": [
      "\n",
      "[*********************100%***********************]  1 of 1 completed\n",
      "[*********************100%***********************]  1 of 1 completed\n",
      "[*********************100%***********************]  1 of 1 completed\n",
      "[*********************100%***********************]  1 of 1 completed\n",
      "[*********************100%***********************]  1 of 1 completed\n",
      "[*********************100%***********************]  1 of 1 completed\n",
      "[*********************100%***********************]  1 of 1 completed"
     ]
    },
    {
     "name": "stderr",
     "output_type": "stream",
     "text": [
      "\n",
      "1 Failed download:\n",
      "['BF.B']: Exception('%ticker%: No price data found, symbol may be delisted (1wk 1924-08-15 -> 2023-07-23)')\n"
     ]
    },
    {
     "name": "stdout",
     "output_type": "stream",
     "text": [
      "\n",
      "[*********************100%***********************]  1 of 1 completed\n",
      "[*********************100%***********************]  1 of 1 completed\n",
      "[*********************100%***********************]  1 of 1 completed\n",
      "[*********************100%***********************]  1 of 1 completed\n",
      "[*********************100%***********************]  1 of 1 completed\n",
      "[*********************100%***********************]  1 of 1 completed\n",
      "[*********************100%***********************]  1 of 1 completed\n",
      "[*********************100%***********************]  1 of 1 completed\n",
      "[*********************100%***********************]  1 of 1 completed"
     ]
    },
    {
     "name": "stderr",
     "output_type": "stream",
     "text": [
      "\n",
      "1 Failed download:\n",
      "['KSU']: Exception('%ticker%: No timezone found, symbol may be delisted')\n"
     ]
    },
    {
     "name": "stdout",
     "output_type": "stream",
     "text": [
      "\n",
      "[*********************100%***********************]  1 of 1 completed\n",
      "[*********************100%***********************]  1 of 1 completed"
     ]
    },
    {
     "name": "stderr",
     "output_type": "stream",
     "text": [
      "\n",
      "1 Failed download:\n",
      "['BRK.A']: Exception('%ticker%: No timezone found, symbol may be delisted')\n"
     ]
    },
    {
     "name": "stdout",
     "output_type": "stream",
     "text": [
      "\n",
      "[*********************100%***********************]  1 of 1 completed"
     ]
    },
    {
     "name": "stderr",
     "output_type": "stream",
     "text": [
      "\n",
      "1 Failed download:\n",
      "['BRK.B']: Exception('%ticker%: No timezone found, symbol may be delisted')\n"
     ]
    },
    {
     "name": "stdout",
     "output_type": "stream",
     "text": [
      "\n"
     ]
    }
   ],
   "source": [
    "import yfinance as yf\n",
    "\n",
    "tickers = [\"STT\", \"ROK\", \"BA\", \"EFX\", \"GWW\", \"TSN\", \"HFC\", \"ITW\", \"USB\", \"SHW\", \"TJX\", \"MDT\", \"WBA\", \"BF.B\", \"ABT\", \"ADP\", \"HRL\", \"VFC\", \"LOW\", \"MCD\", \"AFL\", \"DG\", \"KSU\", \"MO\", \"BRK.A\", \"BRK.B\"]\n",
    "\n",
    "# Create a dictionary to store the data\n",
    "data = {}\n",
    "\n",
    "for ticker in tickers:\n",
    "    data[ticker] = yf.download(ticker, period=\"max\", interval=\"1wk\")\n",
    "\n",
    "# Now, 'data' is a dictionary where the keys are the ticker symbols and the values are the historical price data.\n"
   ]
  },
  {
   "cell_type": "code",
   "execution_count": 22,
   "metadata": {},
   "outputs": [],
   "source": [
    "# convert the dictionary to a pandas dataframe\n",
    "data = pd.concat(data)\n",
    "\n",
    "data.to_csv('data/top25_stocks.csv')"
   ]
  },
  {
   "cell_type": "code",
   "execution_count": null,
   "metadata": {},
   "outputs": [],
   "source": [
    "\n",
    "import requests\n",
    "\n",
    "url = \"https://macrotrends-finance.p.rapidapi.com/quotes/history-price\"\n",
    "\n",
    "querystring = {\"symbol\":\"AAPL\",\"range\":\"50y\"}\n",
    "\n",
    "headers = {\n",
    "\t\"X-RapidAPI-Key\": \"d7e93423ebmsh4a687a8e7d4a3bap1a25d5jsn097bf33ed504\",\n",
    "\t\"X-RapidAPI-Host\": \"macrotrends-finance.p.rapidapi.com\"\n",
    "}\n",
    "\n",
    "response = requests.get(url, headers=headers, params=querystring)\n",
    "\n",
    "print(response.json())"
   ]
  }
 ],
 "metadata": {
  "kernelspec": {
   "display_name": ".venv",
   "language": "python",
   "name": "python3"
  },
  "language_info": {
   "codemirror_mode": {
    "name": "ipython",
    "version": 3
   },
   "file_extension": ".py",
   "mimetype": "text/x-python",
   "name": "python",
   "nbconvert_exporter": "python",
   "pygments_lexer": "ipython3",
   "version": "3.11.2"
  },
  "orig_nbformat": 4
 },
 "nbformat": 4,
 "nbformat_minor": 2
}
